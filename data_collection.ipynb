{
 "cells": [
  {
   "cell_type": "code",
   "execution_count": 3,
   "id": "3b433ca6-693c-4789-af8b-3a272981a43b",
   "metadata": {},
   "outputs": [],
   "source": [
    "import secrets\n",
    "import requests\n",
    "import pandas as pd\n",
    "import pickle\n",
    "from datetime import datetime, timedelta\n",
    "import json\n"
   ]
  },
  {
   "cell_type": "markdown",
   "id": "832bdac3-a06a-4085-adb9-4c08576a587b",
   "metadata": {},
   "source": [
    "### past data collection"
   ]
  },
  {
   "cell_type": "code",
   "execution_count": 10,
   "id": "96ca71e2-db9e-4433-9a61-0ce716447e04",
   "metadata": {},
   "outputs": [
    {
     "name": "stdout",
     "output_type": "stream",
     "text": [
      "2010\n",
      "2011\n",
      "2012\n",
      "2013\n",
      "2014\n",
      "2015\n",
      "2016\n",
      "2017\n",
      "2018\n",
      "2019\n",
      "2020\n",
      "2021\n",
      "2022\n"
     ]
    }
   ],
   "source": [
    "key=secrets.past_key\n",
    "past_json={'Liestal':[],\n",
    "    'Washington DC':[],\n",
    "    'Kyoto':[],\n",
    "    'Vancouver':[]}\n",
    "for year in range(2010,2023):\n",
    "    for city in past_json.keys():\n",
    "        url=f\"https://weather.visualcrossing.com/VisualCrossingWebServices/rest/services/weatherdata/history?&aggregateHours=24&startDateTime={year}-01-01T00:00:00&endDateTime={year}-04-12T00:00:00&unitGroup=uk&contentType=json&dayStartTime=0:0:00&dayEndTime=0:0:00&location={city}&key={key}\"\n",
    "        response = requests.get(url)\n",
    "        past_data = response.json() \n",
    "        past_json[city].append(past_data)\n",
    "    print(year)"
   ]
  },
  {
   "cell_type": "code",
   "execution_count": 15,
   "id": "1367e6f4-8e6b-42a3-aaa6-aa2db5ba860d",
   "metadata": {},
   "outputs": [],
   "source": [
    "#with open(\"past_json.pkl\", \"wb\") as file:\n",
    "#    pickle.dump(past_json, file)"
   ]
  },
  {
   "cell_type": "code",
   "execution_count": 16,
   "id": "c1d73981-7e99-4d95-94a4-d053c53b175f",
   "metadata": {},
   "outputs": [],
   "source": [
    "#with open(\"future_data.pkl\", \"rb\") as file:\n",
    "    # Load the pickled object into a variable\n",
    "#    test = pickle.load(file)"
   ]
  },
  {
   "cell_type": "code",
   "execution_count": 50,
   "id": "23031ce4-29e9-4df6-bc06-9758913e5e7c",
   "metadata": {},
   "outputs": [],
   "source": [
    "past_data={\n",
    "    'Liestal':{\n",
    "    'temp':[],'humidity':[],'precip':[],'datetimeStr':[]\n",
    "    },\n",
    "    'Washington DC':{\n",
    "        'temp':[],'humidity':[],'precip':[],'datetimeStr':[]\n",
    "        },\n",
    "    'Kyoto':{\n",
    "    'temp':[],'humidity':[],'precip':[],'datetimeStr':[]\n",
    "    },\n",
    "    'Vancouver':{\n",
    "    'temp':[],'humidity':[],'precip':[],'datetimeStr':[]\n",
    "    }\n",
    "    \n",
    "}\n",
    "\n",
    "for city in past_json.keys():\n",
    "    rain=[]\n",
    "    for year in past_json[city]:\n",
    "        for day in year['locations'][city]['values']:\n",
    "            for factor in past_data[city]:\n",
    "                past_data[city][factor].append(day[factor])\n",
    "            if 'Rain' in day['conditions']:\n",
    "                rain.append(1)\n",
    "            else:\n",
    "                rain.append(0)\n",
    "    past_data[city]['rain']=rain"
   ]
  },
  {
   "cell_type": "code",
   "execution_count": 53,
   "id": "130daddb-675d-4323-af1f-f5c18c9e7fba",
   "metadata": {},
   "outputs": [],
   "source": [
    "with open(\"past_data.pkl\", \"wb\") as file:\n",
    "    pickle.dump(past_data, file)\n"
   ]
  },
  {
   "cell_type": "code",
   "execution_count": 52,
   "id": "5ebd8268-da65-4e18-8bbc-990313e9220c",
   "metadata": {},
   "outputs": [
    {
     "data": {
      "text/html": [
       "<div>\n",
       "<style scoped>\n",
       "    .dataframe tbody tr th:only-of-type {\n",
       "        vertical-align: middle;\n",
       "    }\n",
       "\n",
       "    .dataframe tbody tr th {\n",
       "        vertical-align: top;\n",
       "    }\n",
       "\n",
       "    .dataframe thead th {\n",
       "        text-align: right;\n",
       "    }\n",
       "</style>\n",
       "<table border=\"1\" class=\"dataframe\">\n",
       "  <thead>\n",
       "    <tr style=\"text-align: right;\">\n",
       "      <th></th>\n",
       "      <th>temp</th>\n",
       "      <th>humidity</th>\n",
       "      <th>precip</th>\n",
       "      <th>datetimeStr</th>\n",
       "      <th>rain</th>\n",
       "    </tr>\n",
       "  </thead>\n",
       "  <tbody>\n",
       "    <tr>\n",
       "      <th>0</th>\n",
       "      <td>2.7</td>\n",
       "      <td>95.06</td>\n",
       "      <td>10.41</td>\n",
       "      <td>2010-01-01T00:00:00+01:00</td>\n",
       "      <td>0</td>\n",
       "    </tr>\n",
       "    <tr>\n",
       "      <th>1</th>\n",
       "      <td>-2.2</td>\n",
       "      <td>75.83</td>\n",
       "      <td>0.00</td>\n",
       "      <td>2010-01-02T00:00:00+01:00</td>\n",
       "      <td>0</td>\n",
       "    </tr>\n",
       "    <tr>\n",
       "      <th>2</th>\n",
       "      <td>-3.9</td>\n",
       "      <td>73.47</td>\n",
       "      <td>0.00</td>\n",
       "      <td>2010-01-03T00:00:00+01:00</td>\n",
       "      <td>0</td>\n",
       "    </tr>\n",
       "    <tr>\n",
       "      <th>3</th>\n",
       "      <td>-5.6</td>\n",
       "      <td>83.84</td>\n",
       "      <td>0.00</td>\n",
       "      <td>2010-01-04T00:00:00+01:00</td>\n",
       "      <td>0</td>\n",
       "    </tr>\n",
       "    <tr>\n",
       "      <th>4</th>\n",
       "      <td>-4.9</td>\n",
       "      <td>82.53</td>\n",
       "      <td>0.11</td>\n",
       "      <td>2010-01-05T00:00:00+01:00</td>\n",
       "      <td>0</td>\n",
       "    </tr>\n",
       "    <tr>\n",
       "      <th>...</th>\n",
       "      <td>...</td>\n",
       "      <td>...</td>\n",
       "      <td>...</td>\n",
       "      <td>...</td>\n",
       "      <td>...</td>\n",
       "    </tr>\n",
       "    <tr>\n",
       "      <th>1324</th>\n",
       "      <td>10.7</td>\n",
       "      <td>79.33</td>\n",
       "      <td>21.31</td>\n",
       "      <td>2022-04-08T00:00:00+02:00</td>\n",
       "      <td>1</td>\n",
       "    </tr>\n",
       "    <tr>\n",
       "      <th>1325</th>\n",
       "      <td>5.6</td>\n",
       "      <td>73.45</td>\n",
       "      <td>4.60</td>\n",
       "      <td>2022-04-09T00:00:00+02:00</td>\n",
       "      <td>1</td>\n",
       "    </tr>\n",
       "    <tr>\n",
       "      <th>1326</th>\n",
       "      <td>6.0</td>\n",
       "      <td>66.71</td>\n",
       "      <td>1.40</td>\n",
       "      <td>2022-04-10T00:00:00+02:00</td>\n",
       "      <td>1</td>\n",
       "    </tr>\n",
       "    <tr>\n",
       "      <th>1327</th>\n",
       "      <td>9.4</td>\n",
       "      <td>54.23</td>\n",
       "      <td>0.00</td>\n",
       "      <td>2022-04-11T00:00:00+02:00</td>\n",
       "      <td>0</td>\n",
       "    </tr>\n",
       "    <tr>\n",
       "      <th>1328</th>\n",
       "      <td>14.0</td>\n",
       "      <td>51.70</td>\n",
       "      <td>0.00</td>\n",
       "      <td>2022-04-12T00:00:00+02:00</td>\n",
       "      <td>0</td>\n",
       "    </tr>\n",
       "  </tbody>\n",
       "</table>\n",
       "<p>1329 rows × 5 columns</p>\n",
       "</div>"
      ],
      "text/plain": [
       "      temp  humidity  precip                datetimeStr  rain\n",
       "0      2.7     95.06   10.41  2010-01-01T00:00:00+01:00     0\n",
       "1     -2.2     75.83    0.00  2010-01-02T00:00:00+01:00     0\n",
       "2     -3.9     73.47    0.00  2010-01-03T00:00:00+01:00     0\n",
       "3     -5.6     83.84    0.00  2010-01-04T00:00:00+01:00     0\n",
       "4     -4.9     82.53    0.11  2010-01-05T00:00:00+01:00     0\n",
       "...    ...       ...     ...                        ...   ...\n",
       "1324  10.7     79.33   21.31  2022-04-08T00:00:00+02:00     1\n",
       "1325   5.6     73.45    4.60  2022-04-09T00:00:00+02:00     1\n",
       "1326   6.0     66.71    1.40  2022-04-10T00:00:00+02:00     1\n",
       "1327   9.4     54.23    0.00  2022-04-11T00:00:00+02:00     0\n",
       "1328  14.0     51.70    0.00  2022-04-12T00:00:00+02:00     0\n",
       "\n",
       "[1329 rows x 5 columns]"
      ]
     },
     "execution_count": 52,
     "metadata": {},
     "output_type": "execute_result"
    }
   ],
   "source": [
    "pd.DataFrame(past_data['Liestal'])"
   ]
  },
  {
   "cell_type": "code",
   "execution_count": null,
   "id": "fb44355f-49e7-4eb0-8fb8-292bee4b9e4e",
   "metadata": {},
   "outputs": [],
   "source": [
    "future_key=secrets.future_key\n",
    "forecast_json={'Liestal':[],\n",
    "    'Washington DC':[],\n",
    "    'Kyoto':[],\n",
    "    'Vancouver':[]}\n",
    "#get the data from api\n",
    "for i in forecast_json:\n",
    "    url=f\"http://api.weatherapi.com/v1/forecast.json?key={future_key}&q={i}&days=14&aqi=no&alerts=no\"\n",
    "    response = requests.get(url)\n",
    "    data = response.json()\n",
    "    forecast_json[i].append(data)"
   ]
  },
  {
   "cell_type": "code",
   "execution_count": null,
   "id": "5116a7a0-9e9d-4e41-882e-cf38fd514e7b",
   "metadata": {},
   "outputs": [],
   "source": [
    "#forecast_json['Liestal'][0]['forecast']['forecastday']"
   ]
  },
  {
   "cell_type": "code",
   "execution_count": null,
   "id": "aa568496-2639-4d13-b351-295d0f9f1b70",
   "metadata": {},
   "outputs": [],
   "source": [
    "forecast_data={\n",
    "    'Liestal':{\n",
    "    'avgtemp_c':[],'totalprecip_in':[],'avghumidity':[],'daily_will_it_rain':[]\n",
    "    },\n",
    "    'Washington DC':{\n",
    "        'avgtemp_c':[],'totalprecip_in':[],'avghumidity':[],'daily_will_it_rain':[]\n",
    "        },\n",
    "    'Kyoto':{\n",
    "    'avgtemp_c':[],'totalprecip_in':[],'avghumidity':[],'daily_will_it_rain':[]\n",
    "    },\n",
    "    'Vancouver':{\n",
    "    'avgtemp_c':[],'totalprecip_in':[],'avghumidity':[],'daily_will_it_rain':[]\n",
    "    }\n",
    "    \n",
    "}\n",
    "for city in forecast_data.keys():\n",
    "    date=set()\n",
    "    for day in forecast_json[city][0]['forecast']['forecastday']:\n",
    "        for factor in forecast_data[city].keys():\n",
    "            forecast_data[city][factor].append(day['day'][factor])\n",
    "            date.add(day['date'])\n",
    "    forecast_data[city]['date']=list(date)\n",
    "    "
   ]
  },
  {
   "cell_type": "code",
   "execution_count": null,
   "id": "06e6ebae-8208-434a-8ff3-c240cf60c4af",
   "metadata": {},
   "outputs": [],
   "source": [
    "#forecast_data['Kyoto']\n",
    "#import pickle\n",
    "#with open(\"forecast_data.pkl\", \"wb\") as file:\n",
    "#    pickle.dump(forecast_data, file)\n",
    "\n",
    "#with open(\"forecast_data.pkl\", \"rb\") as file:\n",
    "    # Load the pickled object into a variable\n",
    "#    my_dict = pickle.load(file)\n",
    "\n",
    "# Print the unpickled dictionary\n",
    "#print(my_dict)"
   ]
  },
  {
   "cell_type": "code",
   "execution_count": null,
   "id": "59ab0ad2-59f8-4208-b7b0-33daaa4f8a02",
   "metadata": {},
   "outputs": [],
   "source": [
    "initial_date = datetime.strptime(f\"{my_dict['Liestal']['date'][-1]}\", \"%Y-%m-%d\")\n",
    "new_date = initial_date + timedelta(days=1)\n"
   ]
  },
  {
   "cell_type": "code",
   "execution_count": null,
   "id": "a2c9261e-ef7f-42b1-bb52-277d1f8be7fe",
   "metadata": {},
   "outputs": [],
   "source": [
    "future_key=secrets.future_key\n",
    "future_json={'Liestal':[],\n",
    "    'Washington DC':[],\n",
    "    'Kyoto':[],\n",
    "    'Vancouver':[]}\n",
    "initial_date = datetime.strptime(f\"{my_dict[city]['date'][-1]}\", \"%Y-%m-%d\")\n",
    "\n",
    "#get the data from api\n",
    "for city in future_json.keys():   \n",
    "    for i in range(14,95):\n",
    "        new_date=datetime.strptime(str(initial_date + timedelta(days=i)), \"%Y-%m-%d %H:%M:%S\")\n",
    "        url=f\"http://api.weatherapi.com/v1/future.json?key={future_key}&q={city}&dt={new_date}\"\n",
    "        response = requests.get(url)\n",
    "        data = response.json()\n",
    "        future_json[city].append(data)"
   ]
  },
  {
   "cell_type": "code",
   "execution_count": null,
   "id": "c5b2cd04-a9bb-4fe0-918b-825c80c77bfa",
   "metadata": {},
   "outputs": [],
   "source": [
    "#future_json['Liestal'][1]"
   ]
  },
  {
   "cell_type": "code",
   "execution_count": null,
   "id": "2a830a8f-ad9f-4cbe-b2a8-94f24aa049a4",
   "metadata": {},
   "outputs": [],
   "source": [
    "future_data={\n",
    "    'Liestal':{\n",
    "    'avgtemp_c':[],'totalprecip_in':[],'avghumidity':[]\n",
    "    },\n",
    "    'Washington DC':{\n",
    "        'avgtemp_c':[],'totalprecip_in':[],'avghumidity':[]\n",
    "    },\n",
    "    'Kyoto':{\n",
    "    'avgtemp_c':[],'totalprecip_in':[],'avghumidity':[]\n",
    "    },\n",
    "    'Vancouver':{\n",
    "    'avgtemp_c':[],'totalprecip_in':[],'avghumidity':[]\n",
    "    }\n",
    "}\n",
    "for city in future_json.keys():\n",
    "    date=[]\n",
    "    rain_day=[]\n",
    "    for day in future_json[city]:#[0]['forecast']['forecastday']:\n",
    "        \n",
    "        for factor in future_data[city].keys():\n",
    "            future_data[city][factor].append(day['forecast']['forecastday'][0]['day'][factor])\n",
    "        date.append(day['forecast']['forecastday'][0]['date'])\n",
    "        rain_hours=[]\n",
    "        for hour in day['forecast']['forecastday'][0]['hour']:\n",
    "            rain_hours.append(hour['will_it_rain'])\n",
    "        rain= 1 if sum(rain_hours) >= 6 else 0\n",
    "        rain_day.append(rain)\n",
    "    future_data[city]['date']=date\n",
    "    future_data[city]['rain']=rain_day\n"
   ]
  },
  {
   "cell_type": "code",
   "execution_count": null,
   "id": "61ebf61d-80c5-465f-950e-108a27d41538",
   "metadata": {},
   "outputs": [],
   "source": [
    "#with open(\"future_data.pkl\", \"wb\") as file:\n",
    "#    pickle.dump(future_data, file)"
   ]
  },
  {
   "cell_type": "code",
   "execution_count": null,
   "id": "d822d7f6-47db-4035-ab27-161ff0296667",
   "metadata": {},
   "outputs": [],
   "source": [
    "pd.DataFrame(future_data['Liestal'])"
   ]
  },
  {
   "cell_type": "code",
   "execution_count": null,
   "id": "b431656a-698b-4db5-a989-b25b877ae561",
   "metadata": {},
   "outputs": [],
   "source": [
    "future_json['Vancouver'][1]['forecast']['forecastday']"
   ]
  },
  {
   "cell_type": "code",
   "execution_count": null,
   "id": "faa54fd2-e748-43d5-8244-e79728b60b3b",
   "metadata": {},
   "outputs": [],
   "source": [
    "date"
   ]
  },
  {
   "cell_type": "code",
   "execution_count": null,
   "id": "091942ad-8832-4bad-bdf0-840677c4b23e",
   "metadata": {},
   "outputs": [],
   "source": [
    "future_data={\n",
    "    'Liestal':{\n",
    "    'avgtemp_c':[],'totalprecip_in':[],'avghumidity':[]\n",
    "    },\n",
    "    'Washington DC':{\n",
    "        'avgtemp_c':[],'totalprecip_in':[],'avghumidity':[]\n",
    "    },\n",
    "    'Kyoto':{\n",
    "    'avgtemp_c':[],'totalprecip_in':[],'avghumidity':[]\n",
    "    },\n",
    "    'Vancouver':{\n",
    "    'avgtemp_c':[],'totalprecip_in':[],'avghumidity':[]\n",
    "    }\n",
    "}\n",
    "for city in future_data.keys():\n",
    "    date=set()\n",
    "    rain=[]\n",
    "    for day in future_json[city]:#[0]['forecast']['forecastday']:\n",
    "        print(day)\n",
    "        for factor in future_data[city].keys():\n",
    "            test = future_data[city][factor].append(type(i))\n",
    "            break\n",
    "        break"
   ]
  },
  {
   "cell_type": "code",
   "execution_count": null,
   "id": "c76c1988-af0c-4a76-a06c-935435dac87b",
   "metadata": {},
   "outputs": [],
   "source": [
    "type(future_json['Liestal'])\n"
   ]
  },
  {
   "cell_type": "code",
   "execution_count": null,
   "id": "b037d199-b9d8-4bc4-b6e0-7f2670479b1f",
   "metadata": {},
   "outputs": [],
   "source": [
    "future_json['Liestal'][9]['forecast']#.keys()#['Kyoto'][0]['forecast']['forecastday'][0]['date']"
   ]
  },
  {
   "cell_type": "code",
   "execution_count": null,
   "id": "70184435-47b6-47d7-aa4c-d7ba17a9fcf7",
   "metadata": {},
   "outputs": [],
   "source": [
    "test={'location': \n",
    "{'name': 'Liestal', 'region': '', 'country': 'Switzerland', 'lat': 47.47, 'lon': 7.73, 'tz_id': 'Europe/Zurich', 'localtime_epoch': 1677256168, 'localtime': '2023-02-24 17:29'}\n",
    ",'forecast': {'forecastday': [{'date': '2023-03-10', 'date_epoch': 1678406400, \n",
    "'day': {'maxtemp_c': 9.4, 'maxtemp_f': 48.8, 'mintemp_c': 0.3, 'mintemp_f': 32.5, 'avgtemp_c': 6.0, 'avgtemp_f': 42.8, 'maxwind_mph': 9.4, 'maxwind_kph': 15.1, 'totalprecip_mm': 3.38, 'totalprecip_in': 0.13, 'avgvis_km': 8.5, 'avgvis_miles': 5.0, 'avghumidity': 82.0, 'condition': {'text': '', 'icon': '//cdn.weatherapi.com/weather/64x64/day/356.png', 'code': 1243}, 'uv': 0.0}, 'astro': {'sunrise': '06:53 AM', 'sunset': '06:27 PM', 'moonrise': '09:49 PM', 'moonset': '08:06 AM', 'moon_phase': 'Waning Gibbous', 'moon_illumination': '94'}, 'hour': [{'time_epoch': 1678402800, 'time': '2023-03-10 00:00', 'temp_c': 2.0, 'temp_f': 35.6, 'is_day': 0, 'condition': {'text': '', 'icon': '//cdn.weatherapi.com/weather/64x64/night/176.png', 'code': 1063}, 'wind_mph': 5.9, 'wind_kph': 9.6, 'wind_degree': 165, 'wind_dir': 'SSE', 'pressure_mb': 1021.0, 'pressure_in': 30.15, 'precip_mm': 0.25, 'precip_in': 0.01, 'humidity': 88, 'cloud': 41, 'feelslike_c': -0.1, 'feelslike_f': 31.8, 'windchill_c': -0.1, 'windchill_f': 31.8, 'heatindex_c': 2.0, 'heatindex_f': 35.7, 'dewpoint_c': 0.1, 'dewpoint_f': 32.3, 'will_it_rain': 1, 'chance_of_rain': 86, 'will_it_snow': 0, 'chance_of_snow': 0, 'vis_km': 8.1, 'vis_miles': 5.0, 'gust_mph': 11.0, 'gust_kph': 17.8}, {'time_epoch': 1678413600, 'time': '2023-03-10 03:00', 'temp_c': 1.1, 'temp_f': 34.0, 'is_day': 0, 'condition': {'text': '', 'icon': '//cdn.weatherapi.com/weather/64x64/night/176.png', 'code': 1063}, 'wind_mph': 4.7, 'wind_kph': 7.5, 'wind_degree': 162, 'wind_dir': 'SSE', 'pressure_mb': 1020.0, 'pressure_in': 30.13, 'precip_mm': 0.25, 'precip_in': 0.01, 'humidity': 90, 'cloud': 55, 'feelslike_c': -0.8, 'feelslike_f': 30.5, 'windchill_c': -0.8, 'windchill_f': 30.5, 'heatindex_c': 1.3, 'heatindex_f': 34.3, 'dewpoint_c': -0.3, 'dewpoint_f': 31.5, 'will_it_rain': 1, 'chance_of_rain': 74, 'will_it_snow': 0, 'chance_of_snow': 0, 'vis_km': 7.9, 'vis_miles': 4.0, 'gust_mph': 8.8, 'gust_kph': 14.2}, {'time_epoch': 1678424400, 'time': '2023-03-10 06:00', 'temp_c': 1.0, 'temp_f': 33.9, 'is_day': 0, 'condition': {'text': '', 'icon': '//cdn.weatherapi.com/weather/64x64/night/176.png', 'code': 1063}, 'wind_mph': 4.7, 'wind_kph': 7.6, 'wind_degree': 164, 'wind_dir': 'SSE', 'pressure_mb': 1020.0, 'pressure_in': 30.13, 'precip_mm': 0.4, 'precip_in': 0.02, 'humidity': 90, 'cloud': 53, 'feelslike_c': -0.8, 'feelslike_f': 30.5, 'windchill_c': -0.8, 'windchill_f': 30.5, 'heatindex_c': 1.2, 'heatindex_f': 34.2, 'dewpoint_c': -0.3, 'dewpoint_f': 31.4, 'will_it_rain': 1, 'chance_of_rain': 82, 'will_it_snow': 0, 'chance_of_snow': 0, 'vis_km': 8.1, 'vis_miles': 5.0, 'gust_mph': 8.9, 'gust_kph': 14.3}, {'time_epoch': 1678435200, 'time': '2023-03-10 09:00', 'temp_c': 6.2, 'temp_f': 43.1, 'is_day': 1, 'condition': {'text': '', 'icon': '//cdn.weatherapi.com/weather/64x64/day/176.png', 'code': 1063}, 'wind_mph': 6.1, 'wind_kph': 9.8, 'wind_degree': 136, 'wind_dir': 'SE', 'pressure_mb': 1020.0, 'pressure_in': 30.11, 'precip_mm': 0.32, 'precip_in': 0.01, 'humidity': 77, 'cloud': 48, 'feelslike_c': 4.6, 'feelslike_f': 40.3, 'windchill_c': 4.6, 'windchill_f': 40.3, 'heatindex_c': 6.3, 'heatindex_f': 43.3, 'dewpoint_c': 2.4, 'dewpoint_f': 36.4, 'will_it_rain': 1, 'chance_of_rain': 74, 'will_it_snow': 0, 'chance_of_snow': 0, 'vis_km': 9.5, 'vis_miles': 5.0, 'gust_mph': 8.3, 'gust_kph': 13.4}, {'time_epoch': 1678446000, 'time': '2023-03-10 12:00', 'temp_c': 8.9, 'temp_f': 48.0, 'is_day': 1, 'condition': {'text': '', 'icon': '//cdn.weatherapi.com/weather/64x64/day/299.png', 'code': 1186}, 'wind_mph': 7.0, 'wind_kph': 11.2, 'wind_degree': 138, 'wind_dir': 'SE', 'pressure_mb': 1018.0, 'pressure_in': 30.06, 'precip_mm': 0.71, 'precip_in': 0.03, 'humidity': 68, 'cloud': 50, 'feelslike_c': 7.2, 'feelslike_f': 44.9, 'windchill_c': 7.2, 'windchill_f': 44.9, 'heatindex_c': 8.9, 'heatindex_f': 48.0, 'dewpoint_c': 2.9, 'dewpoint_f': 37.2, 'will_it_rain': 1, 'chance_of_rain': 84, 'will_it_snow': 0, 'chance_of_snow': 0, 'vis_km': 8.9, 'vis_miles': 5.0, 'gust_mph': 9.0, 'gust_kph': 14.5}, {'time_epoch': 1678456800, 'time': '2023-03-10 15:00', 'temp_c': 9.3, 'temp_f': 48.7, 'is_day': 1, 'condition': {'text': '', 'icon': '//cdn.weatherapi.com/weather/64x64/day/299.png', 'code': 1186}, 'wind_mph': 8.2, 'wind_kph': 13.2, 'wind_degree': 143, 'wind_dir': 'SE', 'pressure_mb': 1017.0, 'pressure_in': 30.03, 'precip_mm': 0.53, 'precip_in': 0.02, 'humidity': 68, 'cloud': 44, 'feelslike_c': 7.5, 'feelslike_f': 45.5, 'windchill_c': 7.5, 'windchill_f': 45.5, 'heatindex_c': 9.3, 'heatindex_f': 48.7, 'dewpoint_c': 3.2, 'dewpoint_f': 37.7, 'will_it_rain': 0, 'chance_of_rain': 68, 'will_it_snow': 0, 'chance_of_snow': 0, 'vis_km': 9.0, 'vis_miles': 5.0, 'gust_mph': 11.1, 'gust_kph': 17.9}, {'time_epoch': 1678467600, 'time': '2023-03-10 18:00', 'temp_c': 4.6, 'temp_f': 40.3, 'is_day': 1, 'condition': {'text': '', 'icon': '//cdn.weatherapi.com/weather/64x64/day/299.png', 'code': 1186}, 'wind_mph': 6.7, 'wind_kph': 10.8, 'wind_degree': 138, 'wind_dir': 'SE', 'pressure_mb': 1018.0, 'pressure_in': 30.07, 'precip_mm': 0.73, 'precip_in': 0.03, 'humidity': 84, 'cloud': 42, 'feelslike_c': 2.4, 'feelslike_f': 36.4, 'windchill_c': 2.4, 'windchill_f': 36.4, 'heatindex_c': 4.7, 'heatindex_f': 40.5, 'dewpoint_c': 1.8, 'dewpoint_f': 35.2, 'will_it_rain': 0, 'chance_of_rain': 69, 'will_it_snow': 0, 'chance_of_snow': 0, 'vis_km': 8.9, 'vis_miles': 5.0, 'gust_mph': 12.4, 'gust_kph': 19.9}, {'time_epoch': 1678478400, 'time': '2023-03-10 21:00', 'temp_c': 2.6, 'temp_f': 36.7, 'is_day': 0, 'condition': {'text': '', 'icon': '//cdn.weatherapi.com/weather/64x64/night/176.png', 'code': 1063}, 'wind_mph': 6.1, 'wind_kph': 9.8, 'wind_degree': 140, 'wind_dir': 'SE', 'pressure_mb': 1019.0, 'pressure_in': 30.09, 'precip_mm': 0.19, 'precip_in': 0.01, 'humidity': 88, 'cloud': 43, 'feelslike_c': 0.4, 'feelslike_f': 32.8, 'windchill_c': 0.4, 'windchill_f': 32.8, 'heatindex_c': 2.9, 'heatindex_f': 37.2, 'dewpoint_c': 0.9, 'dewpoint_f': 33.7, 'will_it_rain': 0, 'chance_of_rain': 61, 'will_it_snow': 0, 'chance_of_snow': 0, 'vis_km': 7.9, 'vis_miles': 4.0, 'gust_mph': 11.5, 'gust_kph': 18.5}]}]}}\n",
    "test['forecast']['forecastday']"
   ]
  },
  {
   "cell_type": "code",
   "execution_count": null,
   "id": "fff23360-b992-4fd0-9e2b-37bcf49ddc30",
   "metadata": {},
   "outputs": [],
   "source": [
    "future_json['Liestal'][3]#['forecast']['forecastday']#[1]#['hour']#[3]['will_it_rain']"
   ]
  },
  {
   "cell_type": "code",
   "execution_count": null,
   "id": "3be73504-cbcc-44b9-8ce1-8a04ddac503d",
   "metadata": {},
   "outputs": [],
   "source": [
    "future_data={\n",
    "    'Liestal':{\n",
    "    'avgtemp_c':[],'totalprecip_in':[],'avghumidity':[],'daily_will_it_rain':[]\n",
    "    },\n",
    "    'Washington DC':{\n",
    "        'avgtemp_c':[],'totalprecip_in':[],'avghumidity':[],'daily_will_it_rain':[]\n",
    "        },\n",
    "    'Kyoto':{\n",
    "    'avgtemp_c':[],'totalprecip_in':[],'avghumidity':[],'daily_will_it_rain':[]\n",
    "    },\n",
    "    'Vancouver':{\n",
    "    'avgtemp_c':[],'totalprecip_in':[],'avghumidity':[],'daily_will_it_rain':[]\n",
    "    }\n",
    "    \n",
    "}\n",
    "for city in future_data.keys():\n",
    "    date=set()\n",
    "    for day in future_json[city][0]['forecast']['forecastday']:\n",
    "        for factor in future_data[city].keys():\n",
    "            future_data[city][factor].append(day['day'][factor])\n",
    "            date.add(day['date'])\n",
    "    future_data[city]['date']=list(date)\n",
    "    "
   ]
  },
  {
   "cell_type": "code",
   "execution_count": null,
   "id": "918d20cf-f829-43a0-850e-2c110c4a02af",
   "metadata": {},
   "outputs": [],
   "source": [
    "len(future_data['Liestal'][0]['forecast']['forecastday'])"
   ]
  },
  {
   "cell_type": "code",
   "execution_count": null,
   "id": "f2042128-43a3-4ab3-8c81-223ab709f6d3",
   "metadata": {},
   "outputs": [],
   "source": [
    "print(data['queryCost'])\n",
    "print(data['remainingCost'])\n",
    "print(data['remainingCost'])"
   ]
  },
  {
   "cell_type": "code",
   "execution_count": null,
   "id": "d12ad8f6-0ae7-4915-850e-7a3b44c27fc8",
   "metadata": {},
   "outputs": [],
   "source": [
    "with open(\"future_data.pkl\", \"rb\") as file:\n",
    "    # Load the pickled object into a variable\n",
    "    my_dict = pickle.load(file)"
   ]
  },
  {
   "cell_type": "code",
   "execution_count": 29,
   "id": "990cf846-9e8e-4803-b8d9-245393ddfd1a",
   "metadata": {},
   "outputs": [],
   "source": [
    "bloom_date ={\n",
    "    'washingtondc':[], \n",
    "    'vancouver':[],\n",
    "    'kyoto':[],\n",
    "    'liestal' :[]\n",
    "}"
   ]
  },
  {
   "cell_type": "code",
   "execution_count": 30,
   "id": "1445ed8a-d798-4678-a7cb-a6a091d9625e",
   "metadata": {},
   "outputs": [],
   "source": [
    "for city in bloom_date:\n",
    "    df=pd.read_csv(f'./data/{city}.csv')#.dtypes()\n",
    "    df=df[df['year'] > 2009]\n",
    "    df['bloom_date'] = pd.to_datetime(df['bloom_date'])\n",
    "    # Convert each datetime object to Unix time and store it in a new column called unix_time\n",
    "    df['unix_time'] = df['bloom_date'].apply(lambda x: int(x.timestamp()))\n",
    "    bloom_date[city]=df[['bloom_date', 'unix_time' ]].to_dict('list')\n",
    "    # Set the datetime value for comparison\n",
    "    #for time,unix in df[] \n",
    "    \n",
    "#    compare_date = pd.to_datetime('2010-01-01')\n",
    "    # Create a list of unix_time values that are greater than the compare_date\n",
    "#    bloom_date[city] = [unix_time for unix_time in df['unix_time'] if pd.to_datetime(unix_time, unit='s') > compare_date]\n"
   ]
  },
  {
   "cell_type": "code",
   "execution_count": 33,
   "id": "886c5cb4-5420-44c2-8998-50358791076e",
   "metadata": {
    "tags": []
   },
   "outputs": [
    {
     "data": {
      "text/plain": [
       "{'washingtondc': {'bloom_date': [Timestamp('2010-03-31 00:00:00'),\n",
       "   Timestamp('2011-03-29 00:00:00'),\n",
       "   Timestamp('2012-03-20 00:00:00'),\n",
       "   Timestamp('2013-04-09 00:00:00'),\n",
       "   Timestamp('2014-04-10 00:00:00'),\n",
       "   Timestamp('2015-04-10 00:00:00'),\n",
       "   Timestamp('2016-03-25 00:00:00'),\n",
       "   Timestamp('2017-03-25 00:00:00'),\n",
       "   Timestamp('2018-04-05 00:00:00'),\n",
       "   Timestamp('2019-04-01 00:00:00'),\n",
       "   Timestamp('2020-03-20 00:00:00'),\n",
       "   Timestamp('2021-03-28 00:00:00'),\n",
       "   Timestamp('2022-03-21 00:00:00')],\n",
       "  'unix_time': [1269993600,\n",
       "   1301356800,\n",
       "   1332201600,\n",
       "   1365465600,\n",
       "   1397088000,\n",
       "   1428624000,\n",
       "   1458864000,\n",
       "   1490400000,\n",
       "   1522886400,\n",
       "   1554076800,\n",
       "   1584662400,\n",
       "   1616889600,\n",
       "   1647820800]},\n",
       " 'vancouver': {'bloom_date': [Timestamp('2022-03-27 00:00:00')],\n",
       "  'unix_time': [1648339200]},\n",
       " 'kyoto': {'bloom_date': [Timestamp('2010-04-05 00:00:00'),\n",
       "   Timestamp('2011-04-09 00:00:00'),\n",
       "   Timestamp('2012-04-10 00:00:00'),\n",
       "   Timestamp('2013-04-03 00:00:00'),\n",
       "   Timestamp('2014-04-04 00:00:00'),\n",
       "   Timestamp('2015-04-03 00:00:00'),\n",
       "   Timestamp('2016-04-04 00:00:00'),\n",
       "   Timestamp('2017-04-09 00:00:00'),\n",
       "   Timestamp('2018-03-30 00:00:00'),\n",
       "   Timestamp('2019-04-05 00:00:00'),\n",
       "   Timestamp('2020-04-01 00:00:00'),\n",
       "   Timestamp('2021-03-26 00:00:00'),\n",
       "   Timestamp('2022-04-01 00:00:00')],\n",
       "  'unix_time': [1270425600,\n",
       "   1302307200,\n",
       "   1334016000,\n",
       "   1364947200,\n",
       "   1396569600,\n",
       "   1428019200,\n",
       "   1459728000,\n",
       "   1491696000,\n",
       "   1522368000,\n",
       "   1554422400,\n",
       "   1585699200,\n",
       "   1616716800,\n",
       "   1648771200]},\n",
       " 'liestal': {'bloom_date': [Timestamp('2010-04-08 00:00:00'),\n",
       "   Timestamp('2011-03-31 00:00:00'),\n",
       "   Timestamp('2012-04-02 00:00:00'),\n",
       "   Timestamp('2013-04-17 00:00:00'),\n",
       "   Timestamp('2014-03-25 00:00:00'),\n",
       "   Timestamp('2015-04-11 00:00:00'),\n",
       "   Timestamp('2016-04-06 00:00:00'),\n",
       "   Timestamp('2017-03-26 00:00:00'),\n",
       "   Timestamp('2018-04-08 00:00:00'),\n",
       "   Timestamp('2019-03-27 00:00:00'),\n",
       "   Timestamp('2020-03-17 00:00:00'),\n",
       "   Timestamp('2021-03-28 00:00:00'),\n",
       "   Timestamp('2022-03-26 00:00:00')],\n",
       "  'unix_time': [1270684800,\n",
       "   1301529600,\n",
       "   1333324800,\n",
       "   1366156800,\n",
       "   1395705600,\n",
       "   1428710400,\n",
       "   1459900800,\n",
       "   1490486400,\n",
       "   1523145600,\n",
       "   1553644800,\n",
       "   1584403200,\n",
       "   1616889600,\n",
       "   1648252800]}}"
      ]
     },
     "execution_count": 33,
     "metadata": {},
     "output_type": "execute_result"
    }
   ],
   "source": [
    "bloom_date"
   ]
  },
  {
   "cell_type": "code",
   "execution_count": 32,
   "id": "71da0d80-fca3-48c5-b177-6db9c3372803",
   "metadata": {
    "tags": []
   },
   "outputs": [],
   "source": [
    "with open(\"bloom_date.pkl\", \"wb\") as file:\n",
    "    # Load the pickled object into a variable\n",
    "    pickle.dump(bloom_date,file)\n",
    "    \n",
    "file.close()"
   ]
  },
  {
   "cell_type": "code",
   "execution_count": null,
   "id": "26df4e04-9096-41f1-8375-4f116bb89c9f",
   "metadata": {},
   "outputs": [],
   "source": []
  }
 ],
 "metadata": {
  "kernelspec": {
   "display_name": "cherryenv",
   "language": "python",
   "name": "cherryenv"
  },
  "language_info": {
   "codemirror_mode": {
    "name": "ipython",
    "version": 3
   },
   "file_extension": ".py",
   "mimetype": "text/x-python",
   "name": "python",
   "nbconvert_exporter": "python",
   "pygments_lexer": "ipython3",
   "version": "3.10.6"
  }
 },
 "nbformat": 4,
 "nbformat_minor": 5
}
