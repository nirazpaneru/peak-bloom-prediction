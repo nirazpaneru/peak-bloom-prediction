{
 "cells": [
  {
   "cell_type": "code",
   "execution_count": 1,
   "id": "03817930-2368-40c9-8501-660dd90c2c62",
   "metadata": {
    "tags": []
   },
   "outputs": [],
   "source": [
    "import csv\n",
    "import pickle\n",
    "import numpy as np\n",
    "import pandas as pd\n",
    "import datetime"
   ]
  },
  {
   "cell_type": "code",
   "execution_count": 142,
   "id": "b2a606b7-59c6-4393-8e00-03a927d22e78",
   "metadata": {
    "tags": []
   },
   "outputs": [],
   "source": [
    "\n",
    "with open(\"bloom_date.pkl\", \"rb\") as file:\n",
    "    # Load the pickled object into a variable\n",
    "    bloom_date = pickle.load(file)\n",
    "    file.close()\n",
    "with open(\"past_data.pkl\", \"rb\") as file:\n",
    "    # Load the pickled object into a variable\n",
    "    past_data = pickle.load(file)\n",
    "    file.close()"
   ]
  },
  {
   "cell_type": "code",
   "execution_count": 151,
   "id": "13fa2952-e894-4cb2-a4e8-b8d212e61b18",
   "metadata": {
    "tags": []
   },
   "outputs": [
    {
     "data": {
      "text/plain": [
       "[Timestamp('2010-03-31 00:00:00'),\n",
       " Timestamp('2011-03-29 00:00:00'),\n",
       " Timestamp('2012-03-20 00:00:00'),\n",
       " Timestamp('2013-04-09 00:00:00'),\n",
       " Timestamp('2014-04-10 00:00:00'),\n",
       " Timestamp('2015-04-10 00:00:00'),\n",
       " Timestamp('2016-03-25 00:00:00'),\n",
       " Timestamp('2017-03-25 00:00:00'),\n",
       " Timestamp('2018-04-05 00:00:00'),\n",
       " Timestamp('2019-04-01 00:00:00'),\n",
       " Timestamp('2020-03-20 00:00:00'),\n",
       " Timestamp('2021-03-28 00:00:00'),\n",
       " Timestamp('2022-03-21 00:00:00')]"
      ]
     },
     "execution_count": 151,
     "metadata": {},
     "output_type": "execute_result"
    }
   ],
   "source": [
    "bloom_date['Washington DC']['bloom_date']"
   ]
  },
  {
   "cell_type": "code",
   "execution_count": 145,
   "id": "8fb981c2-4767-47c5-a5c8-123722c8c070",
   "metadata": {
    "tags": []
   },
   "outputs": [],
   "source": [
    "bloom_date['Liestal']=bloom_date['liestal']['bloom_date']\n",
    "del bloom_date['liestal']\n",
    "\n",
    "bloom_date['Washington DC']=bloom_date['washingtondc']['bloom_date']\n",
    "del bloom_date['washingtondc']\n",
    "\n",
    "bloom_date['Kyoto']=bloom_date['kyoto']['bloom_date']\n",
    "del bloom_date['kyoto']\n",
    "\n",
    "bloom_date['Vancouver']=bloom_date['vancouver']['bloom_date']\n",
    "del bloom_date['vancouver']"
   ]
  },
  {
   "cell_type": "code",
   "execution_count": 150,
   "id": "48e52c40-b8f6-4dbb-82fb-1dede5236071",
   "metadata": {
    "tags": []
   },
   "outputs": [
    {
     "name": "stdout",
     "output_type": "stream",
     "text": [
      "dict_keys(['bloom_date', 'unix_time'])\n",
      "dict_keys(['temp', 'humidity', 'precip', 'datetimeStr', 'rain'])\n",
      "[Timestamp('2022-03-27 00:00:00')]\n"
     ]
    }
   ],
   "source": [
    "print(bloom_date['Liestal'].keys())\n",
    "print(past_data['Liestal'].keys())\n",
    "print(bloom_date['Vancouver']['bloom_date'])"
   ]
  },
  {
   "cell_type": "code",
   "execution_count": null,
   "id": "ae6c7bdb-b85c-4e3a-a2ca-6a13d5968d70",
   "metadata": {},
   "outputs": [],
   "source": [
    "for i in \n",
    "# convert each Timestamp object to a string in the desired format\n",
    "dates_str = [ts.strftime('%Y-%m-%d') for ts in timestamps]\n"
   ]
  },
  {
   "cell_type": "code",
   "execution_count": 139,
   "id": "957e5476-f11e-43d6-bd55-dc9fc58bf987",
   "metadata": {
    "tags": []
   },
   "outputs": [],
   "source": [
    "df=pd.DataFrame(past_data['Liestal'])\n",
    "df['datetimeStr'] = pd.to_datetime(df['datetimeStr'])\n",
    "\n",
    "# extract the date part of the datetime values using the .dt.date attribute\n",
    "df['datetimeStr'] = df['datetimeStr'].apply(lambda x: x.date())\n",
    "\n",
    "# convert the resulting Series of dates to a Series of strings in the desired format\n",
    "df['datetimeStr'] = df['datetimeStr'].apply(lambda x: x.strftime('%Y-%m-%d'))\n",
    "\n",
    "\n",
    "\n"
   ]
  },
  {
   "cell_type": "code",
   "execution_count": 141,
   "id": "30787106-15b5-49d4-9c72-9c98576ffa13",
   "metadata": {
    "tags": []
   },
   "outputs": [
    {
     "data": {
      "text/plain": [
       "{'bloom_date': [Timestamp('2022-03-27 00:00:00')], 'unix_time': [1648339200]}"
      ]
     },
     "execution_count": 141,
     "metadata": {},
     "output_type": "execute_result"
    }
   ],
   "source": [
    "bloom_date['Vancouver']"
   ]
  },
  {
   "cell_type": "code",
   "execution_count": 140,
   "id": "89de3d1b-9fb6-44fa-92fd-78d277d706bb",
   "metadata": {
    "tags": []
   },
   "outputs": [
    {
     "data": {
      "text/html": [
       "<div>\n",
       "<style scoped>\n",
       "    .dataframe tbody tr th:only-of-type {\n",
       "        vertical-align: middle;\n",
       "    }\n",
       "\n",
       "    .dataframe tbody tr th {\n",
       "        vertical-align: top;\n",
       "    }\n",
       "\n",
       "    .dataframe thead th {\n",
       "        text-align: right;\n",
       "    }\n",
       "</style>\n",
       "<table border=\"1\" class=\"dataframe\">\n",
       "  <thead>\n",
       "    <tr style=\"text-align: right;\">\n",
       "      <th></th>\n",
       "      <th>temp</th>\n",
       "      <th>humidity</th>\n",
       "      <th>precip</th>\n",
       "      <th>datetimeStr</th>\n",
       "      <th>rain</th>\n",
       "    </tr>\n",
       "  </thead>\n",
       "  <tbody>\n",
       "    <tr>\n",
       "      <th>0</th>\n",
       "      <td>2.7</td>\n",
       "      <td>95.06</td>\n",
       "      <td>10.41</td>\n",
       "      <td>2010-01-01</td>\n",
       "      <td>0</td>\n",
       "    </tr>\n",
       "    <tr>\n",
       "      <th>1</th>\n",
       "      <td>-2.2</td>\n",
       "      <td>75.83</td>\n",
       "      <td>0.00</td>\n",
       "      <td>2010-01-02</td>\n",
       "      <td>0</td>\n",
       "    </tr>\n",
       "    <tr>\n",
       "      <th>2</th>\n",
       "      <td>-3.9</td>\n",
       "      <td>73.47</td>\n",
       "      <td>0.00</td>\n",
       "      <td>2010-01-03</td>\n",
       "      <td>0</td>\n",
       "    </tr>\n",
       "    <tr>\n",
       "      <th>3</th>\n",
       "      <td>-5.6</td>\n",
       "      <td>83.84</td>\n",
       "      <td>0.00</td>\n",
       "      <td>2010-01-04</td>\n",
       "      <td>0</td>\n",
       "    </tr>\n",
       "    <tr>\n",
       "      <th>4</th>\n",
       "      <td>-4.9</td>\n",
       "      <td>82.53</td>\n",
       "      <td>0.11</td>\n",
       "      <td>2010-01-05</td>\n",
       "      <td>0</td>\n",
       "    </tr>\n",
       "    <tr>\n",
       "      <th>...</th>\n",
       "      <td>...</td>\n",
       "      <td>...</td>\n",
       "      <td>...</td>\n",
       "      <td>...</td>\n",
       "      <td>...</td>\n",
       "    </tr>\n",
       "    <tr>\n",
       "      <th>1324</th>\n",
       "      <td>10.7</td>\n",
       "      <td>79.33</td>\n",
       "      <td>21.31</td>\n",
       "      <td>2022-04-08</td>\n",
       "      <td>1</td>\n",
       "    </tr>\n",
       "    <tr>\n",
       "      <th>1325</th>\n",
       "      <td>5.6</td>\n",
       "      <td>73.45</td>\n",
       "      <td>4.60</td>\n",
       "      <td>2022-04-09</td>\n",
       "      <td>1</td>\n",
       "    </tr>\n",
       "    <tr>\n",
       "      <th>1326</th>\n",
       "      <td>6.0</td>\n",
       "      <td>66.71</td>\n",
       "      <td>1.40</td>\n",
       "      <td>2022-04-10</td>\n",
       "      <td>1</td>\n",
       "    </tr>\n",
       "    <tr>\n",
       "      <th>1327</th>\n",
       "      <td>9.4</td>\n",
       "      <td>54.23</td>\n",
       "      <td>0.00</td>\n",
       "      <td>2022-04-11</td>\n",
       "      <td>0</td>\n",
       "    </tr>\n",
       "    <tr>\n",
       "      <th>1328</th>\n",
       "      <td>14.0</td>\n",
       "      <td>51.70</td>\n",
       "      <td>0.00</td>\n",
       "      <td>2022-04-12</td>\n",
       "      <td>0</td>\n",
       "    </tr>\n",
       "  </tbody>\n",
       "</table>\n",
       "<p>1329 rows × 5 columns</p>\n",
       "</div>"
      ],
      "text/plain": [
       "      temp  humidity  precip datetimeStr  rain\n",
       "0      2.7     95.06   10.41  2010-01-01     0\n",
       "1     -2.2     75.83    0.00  2010-01-02     0\n",
       "2     -3.9     73.47    0.00  2010-01-03     0\n",
       "3     -5.6     83.84    0.00  2010-01-04     0\n",
       "4     -4.9     82.53    0.11  2010-01-05     0\n",
       "...    ...       ...     ...         ...   ...\n",
       "1324  10.7     79.33   21.31  2022-04-08     1\n",
       "1325   5.6     73.45    4.60  2022-04-09     1\n",
       "1326   6.0     66.71    1.40  2022-04-10     1\n",
       "1327   9.4     54.23    0.00  2022-04-11     0\n",
       "1328  14.0     51.70    0.00  2022-04-12     0\n",
       "\n",
       "[1329 rows x 5 columns]"
      ]
     },
     "execution_count": 140,
     "metadata": {},
     "output_type": "execute_result"
    }
   ],
   "source": [
    "df#pandas.core.series.Series\n"
   ]
  },
  {
   "cell_type": "code",
   "execution_count": null,
   "id": "13c343dc-2018-4e0b-9f48-a1efd1cd3553",
   "metadata": {},
   "outputs": [],
   "source": []
  },
  {
   "cell_type": "code",
   "execution_count": 68,
   "id": "8be4040e-cf8b-48c0-9297-d3c13df0fe26",
   "metadata": {
    "tags": []
   },
   "outputs": [
    {
     "data": {
      "text/plain": [
       "'2010'"
      ]
     },
     "execution_count": 68,
     "metadata": {},
     "output_type": "execute_result"
    }
   ],
   "source": [
    "past_data['Liestal']['datetimeStr'][0].split('-')[0]"
   ]
  },
  {
   "cell_type": "code",
   "execution_count": 69,
   "id": "a01230e9-f676-4252-abdf-bfc673e3170b",
   "metadata": {
    "tags": []
   },
   "outputs": [
    {
     "name": "stdout",
     "output_type": "stream",
     "text": [
      "Liestal temp 1329\n",
      "Liestal humidity 1329\n",
      "Liestal precip 1329\n",
      "Liestal datetimeStr 1329\n",
      "Liestal rain 1329\n",
      "Liestal labels 4089\n",
      "Washington DC temp 1329\n",
      "Washington DC humidity 1329\n",
      "Washington DC precip 1329\n",
      "Washington DC datetimeStr 1329\n",
      "Washington DC rain 1329\n",
      "Washington DC labels 4089\n",
      "Kyoto temp 1329\n",
      "Kyoto humidity 1329\n",
      "Kyoto precip 1329\n",
      "Kyoto datetimeStr 1329\n",
      "Kyoto rain 1329\n",
      "Kyoto labels 4089\n",
      "Vancouver temp 1329\n",
      "Vancouver humidity 1329\n",
      "Vancouver precip 1329\n",
      "Vancouver datetimeStr 1329\n",
      "Vancouver rain 1329\n",
      "Vancouver labels 4089\n"
     ]
    }
   ],
   "source": [
    "for city in past_data.keys():\n",
    "    for var in past_data[city]:\n",
    "        print(f'{city} {var} {len(past_data[city][var])}')"
   ]
  },
  {
   "cell_type": "code",
   "execution_count": 17,
   "id": "3be78512-bd7f-48f5-a106-f05f54dd3313",
   "metadata": {
    "tags": []
   },
   "outputs": [
    {
     "name": "stdout",
     "output_type": "stream",
     "text": [
      "156\n"
     ]
    }
   ],
   "source": [
    "my_list = past_data['Kyoto']['labels']\n",
    "indices = [i for i, x in enumerate(my_list) if x == 1]\n",
    "print(len(indices))  # Output: [1, 2, 4]\n"
   ]
  },
  {
   "cell_type": "code",
   "execution_count": null,
   "id": "2be42966-e3ac-4941-aabb-64c54a4cf997",
   "metadata": {
    "tags": []
   },
   "outputs": [],
   "source": [
    "past_data['Kyoto']['datetimeStr'][0].split('T')[0]==pd.Timestamp('2010-01-01 00:00:00').strftime('%Y-%m-%d')"
   ]
  },
  {
   "cell_type": "code",
   "execution_count": null,
   "id": "fff78097-ee57-4348-a452-77a7d8f991a5",
   "metadata": {
    "tags": []
   },
   "outputs": [],
   "source": [
    "pd.Timestamp(past_data['Kyoto']['datetimeStr'][0]).strftime('%Y-%m-%d')"
   ]
  },
  {
   "cell_type": "code",
   "execution_count": null,
   "id": "0e1f3ef7-d1ed-42f6-b3f7-ea3ac97fb642",
   "metadata": {
    "tags": []
   },
   "outputs": [],
   "source": [
    "bloom_date['washingtondc']['bloom_date'][0]#.strftime('%Y-%m-%d')"
   ]
  },
  {
   "cell_type": "code",
   "execution_count": null,
   "id": "f4910b5f-bd32-456f-902d-b37fe550b799",
   "metadata": {
    "tags": []
   },
   "outputs": [],
   "source": [
    "dt = pd.to_datetime('2010-01-01T00:00:00+09:00')\n",
    "\n",
    "# Convert datetime object to desired timestamp format\n",
    "ts = pd.Timestamp(dt)\n",
    "print(ts)"
   ]
  },
  {
   "cell_type": "code",
   "execution_count": null,
   "id": "1ec6ea7b-3fa1-4f71-9ec8-06d196538b7c",
   "metadata": {},
   "outputs": [],
   "source": [
    "def growth_time(x,time):\n",
    "    return datetime.datetime.fromtimestamp(time)+x"
   ]
  },
  {
   "cell_type": "code",
   "execution_count": null,
   "id": "192c6fc5-ed74-4c3c-be59-496339a948f3",
   "metadata": {
    "tags": []
   },
   "outputs": [],
   "source": [
    "pd.Timestamp('2010-01-01 00:00:00')\n"
   ]
  },
  {
   "cell_type": "code",
   "execution_count": null,
   "id": "a1a4b79d-0d32-4f22-95ac-5585a7edd24a",
   "metadata": {
    "tags": []
   },
   "outputs": [],
   "source": [
    "# Create timestamp object\n",
    "ts = datetime.datetime(bloom_date['washingtondc']['bloom_date'][0])\n",
    "\n",
    "# Convert timestamp to string format 'yyy-mm-dd'\n",
    "formatted_date = ts.strftime('%Y-%m-%d')\n",
    "\n",
    "print(formatted_date)  # Output: '2010-03-31'\n"
   ]
  },
  {
   "cell_type": "code",
   "execution_count": null,
   "id": "016e8e7b-edb4-4503-a777-c7f1963696d5",
   "metadata": {},
   "outputs": [],
   "source": [
    "import numpy as np\n",
    "\n",
    "def softmax_3d(x, a, b, c):\n",
    "    logits = a * x[:, 0, :, :] + b * x[:, 1, :, :] + c * x[:, 2, :, :]\n",
    "    exp_logits = np.exp(logits)\n",
    "    return exp_logits / np.sum(exp_logits, axis=(1, 2))"
   ]
  },
  {
   "cell_type": "code",
   "execution_count": null,
   "id": "a13196dc-1c2a-454a-8a1c-c7cc87f5e673",
   "metadata": {},
   "outputs": [],
   "source": [
    "import seaborn as sns\n",
    "import matplotlib.pyplot as plt\n",
    "# Plot the data points\n",
    "sns.scatterplot(x=temp, y=development, color='blue')\n",
    "\n",
    "# Generate a range of temperature values for the logistic function\n",
    "x_range = np.linspace(min(temp), max(temp), 100)\n",
    "\n",
    "# Evaluate the logistic function at the temperature range\n",
    "y_range = logistic_function(x_range, *popt)\n",
    "\n",
    "# Plot the logistic function curve\n",
    "sns.lineplot(x=x_range, y=y_range, color='orange')\n",
    "\n",
    "# Add axis labels and a title\n",
    "plt.xlabel('Temperature (°C))\n",
    "plt.ylabel('Development')\n",
    "plt.title('Logistic Function Fit to Temperature and Development Data')\n",
    "\n",
    "plt.show()"
   ]
  },
  {
   "cell_type": "code",
   "execution_count": null,
   "id": "19ff186b-71f7-4c1e-859a-7fd22a1b7145",
   "metadata": {},
   "outputs": [],
   "source": []
  }
 ],
 "metadata": {
  "kernelspec": {
   "display_name": "cherryenv",
   "language": "python",
   "name": "cherryenv"
  },
  "language_info": {
   "codemirror_mode": {
    "name": "ipython",
    "version": 3
   },
   "file_extension": ".py",
   "mimetype": "text/x-python",
   "name": "python",
   "nbconvert_exporter": "python",
   "pygments_lexer": "ipython3",
   "version": "3.10.6"
  }
 },
 "nbformat": 4,
 "nbformat_minor": 5
}
